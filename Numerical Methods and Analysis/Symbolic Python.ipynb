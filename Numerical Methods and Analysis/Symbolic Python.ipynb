{
 "cells": [
  {
   "cell_type": "code",
   "execution_count": 21,
   "metadata": {},
   "outputs": [],
   "source": [
    "import numpy as np\n",
    "import sympy\n",
    "sympy.init_printing()\n",
    "%matplotlib inline\n",
    "import matplotlib as mpl\n",
    "import matplotlib.pyplot as plt\n",
    "from mpl_toolkits.mplot3d.axes3d import Axes3D"
   ]
  },
  {
   "cell_type": "code",
   "execution_count": 2,
   "metadata": {},
   "outputs": [],
   "source": [
    "a,b,c,h,x,y,z = sympy.symbols(\"a,b,c,h,x,y,z\")\n",
    "pi = sympy.pi\n",
    "# sympy.sin(pi/2)\n",
    "# sympy.cos(pi)\n",
    "# sympy.sin(pi/6)\n",
    "# sympy.cos(pi/4)"
   ]
  },
  {
   "cell_type": "code",
   "execution_count": 3,
   "metadata": {},
   "outputs": [
    {
     "data": {
      "image/png": "[encoded data removed]",
      "text/latex": [
       "$\\displaystyle \\sin{\\left(x + y \\right)}$"
      ],
      "text/plain": [
       "sin(x + y)"
      ]
     },
     "execution_count": 3,
     "metadata": {},
     "output_type": "execute_result"
    }
   ],
   "source": [
    "# h=sympy.Lambda(x,x**2)\n",
    "# h(5)\n",
    "# h(1+x)\n",
    "\n",
    "# expr1 = 1 + 2 * x**2 + 3 * x**3\n",
    "# expr1\n",
    "\n",
    "# expr2 = 2*sympy.cos(x)*sympy.sin(x)\n",
    "expr3 = sympy.sin(x)*sympy.cos(y)+sympy.cos(x)*sympy.sin(y)\n",
    "sympy.simplify(expr3)"
   ]
  },
  {
   "cell_type": "code",
   "execution_count": 4,
   "metadata": {},
   "outputs": [
    {
     "data": {
      "image/png": "[encoded data removed]",
      "text/latex": [
       "$\\displaystyle x^{2} + 2 x + 1$"
      ],
      "text/plain": [
       " 2          \n",
       "x  + 2⋅x + 1"
      ]
     },
     "execution_count": 4,
     "metadata": {},
     "output_type": "execute_result"
    }
   ],
   "source": [
    "# sympy.sin(x+y).expand(trig=True)\n",
    "sympy.expand((x+1)**2)"
   ]
  },
  {
   "cell_type": "code",
   "execution_count": 15,
   "metadata": {},
   "outputs": [
    {
     "data": {
      "image/png": "[encoded data removed]",
      "text/latex": [
       "$\\displaystyle - e^{\\cos{\\left(x \\right)}} \\sin{\\left(x \\right)}$"
      ],
      "text/plain": [
       "  cos(x)       \n",
       "-ℯ      ⋅sin(x)"
      ]
     },
     "execution_count": 15,
     "metadata": {},
     "output_type": "execute_result"
    }
   ],
   "source": [
    "f = sympy.Function('f')(x)\n",
    "sympy.diff(f,x,2)\n",
    "\n",
    "g = sympy.Function('g')(x,y)\n",
    "g.diff(x,y)\n",
    "\n",
    "# expr4 = x**5 + x**3 + x + 1\n",
    "# expr4.diff(x)\n",
    "\n",
    "d = sympy.Derivative(sympy.exp(sympy.cos(x)),x)\n",
    "d.doit()"
   ]
  },
  {
   "cell_type": "code",
   "execution_count": 4,
   "metadata": {},
   "outputs": [
    {
     "data": {
      "image/png": "[encoded data removed]",
      "text/latex": [
       "$\\displaystyle \\sin{\\left(x \\right)}$"
      ],
      "text/plain": [
       "sin(x)"
      ]
     },
     "execution_count": 4,
     "metadata": {},
     "output_type": "execute_result"
    }
   ],
   "source": [
    "sympy.integrate(sympy.cos(x))"
   ]
  },
  {
   "cell_type": "code",
   "execution_count": 13,
   "metadata": {},
   "outputs": [
    {
     "data": {
      "image/png": "[encoded data removed]",
      "text/latex": [
       "$\\displaystyle \\cos{\\left(y e^{y} \\right)}$"
      ],
      "text/plain": [
       "   ⎛   y⎞\n",
       "cos⎝y⋅ℯ ⎠"
      ]
     },
     "execution_count": 13,
     "metadata": {},
     "output_type": "execute_result"
    }
   ],
   "source": [
    "# Substitutions\n",
    "sympy.sin(x*z).subs({z: sympy.exp(y),x: y,sympy.sin: sympy.cos})\n",
    "# expr4 = x**2 + y**2 + z**2\n",
    "# values = {x: 1.25,y:7,z:8}\n",
    "# expr4.subs(values)"
   ]
  },
  {
   "cell_type": "code",
   "execution_count": 21,
   "metadata": {},
   "outputs": [
    {
     "data": {
      "image/png": "[encoded data removed]",
      "text/latex": [
       "$\\displaystyle \\frac{\\sqrt{\\pi}}{2}$"
      ],
      "text/plain": [
       "√π\n",
       "──\n",
       "2 "
      ]
     },
     "execution_count": 21,
     "metadata": {},
     "output_type": "execute_result"
    }
   ],
   "source": [
    "## SymPy Integration\n",
    "# sympy.integrate(f)\n",
    "# sympy.integrate(f,(x,a,b))\n",
    "oo = sympy.oo\n",
    "exp = sympy.exp\n",
    "sympy.integrate(exp(-x**2),(x,0,oo))"
   ]
  },
  {
   "cell_type": "code",
   "execution_count": 27,
   "metadata": {},
   "outputs": [
    {
     "data": {
      "image/png": "[encoded data removed]",
      "text/latex": [
       "$\\displaystyle 1 - x + x^{2} - x^{3} + x^{4} - x^{5} + O\\left(x^{6}\\right)$"
      ],
      "text/plain": [
       "         2    3    4    5    ⎛ 6⎞\n",
       "1 - x + x  - x  + x  - x  + O⎝x ⎠"
      ]
     },
     "execution_count": 27,
     "metadata": {},
     "output_type": "execute_result"
    }
   ],
   "source": [
    "## Series\n",
    "# sympy.series(f,x)\n",
    "\n",
    "# sympy.cos(x).series()\n",
    "# sympy.sin(x).series()\n",
    "# sympy.exp(x).series()\n",
    "(1/(1+x)).series()"
   ]
  },
  {
   "cell_type": "code",
   "execution_count": 42,
   "metadata": {},
   "outputs": [
    {
     "data": {
      "image/png": "[encoded data removed]",
      "text/latex": [
       "$\\displaystyle e^{x}$"
      ],
      "text/plain": [
       " x\n",
       "ℯ "
      ]
     },
     "execution_count": 42,
     "metadata": {},
     "output_type": "execute_result"
    }
   ],
   "source": [
    "## Limits\n",
    "# sympy.limit(sympy.sin(x)/x,x,0)\n",
    "f = sympy.Function('f')\n",
    "diff_limit = (f(x+h)-f(x))/h\n",
    "sympy.limit(diff_limit.subs(f,sympy.exp),h,0)"
   ]
  },
  {
   "cell_type": "code",
   "execution_count": 7,
   "metadata": {},
   "outputs": [
    {
     "data": {
      "image/png": "[encoded data removed]",
      "text/latex": [
       "$\\displaystyle \\frac{\\pi^{2}}{6}$"
      ],
      "text/plain": [
       " 2\n",
       "π \n",
       "──\n",
       "6 "
      ]
     },
     "execution_count": 7,
     "metadata": {},
     "output_type": "execute_result"
    }
   ],
   "source": [
    "## Sums and Products\n",
    "n = sympy.Symbol(\"n\",integer=True)\n",
    "sum1 = sympy.Sum(1/n**2,(n,1,sympy.oo))\n",
    "sum1.doit()"
   ]
  },
  {
   "cell_type": "code",
   "execution_count": 10,
   "metadata": {},
   "outputs": [
    {
     "data": {
      "image/png": "[encoded data removed]",
      "text/latex": [
       "$\\displaystyle 5040$"
      ],
      "text/plain": [
       "5040"
      ]
     },
     "execution_count": 10,
     "metadata": {},
     "output_type": "execute_result"
    }
   ],
   "source": [
    "prod1 = sympy.Product(n,(n,1,7))\n",
    "prod1.doit()"
   ]
  },
  {
   "cell_type": "code",
   "execution_count": 5,
   "metadata": {},
   "outputs": [
    {
     "data": {
      "image/png": "[encoded data removed]",
      "text/latex": [
       "$\\displaystyle \\left[ \\frac{\\pi}{4}\\right]$"
      ],
      "text/plain": [
       "⎡π⎤\n",
       "⎢─⎥\n",
       "⎣4⎦"
      ]
     },
     "execution_count": 5,
     "metadata": {},
     "output_type": "execute_result"
    }
   ],
   "source": [
    "## Equations\n",
    "sympy.solve(x**2-5*x+6)\n",
    "sympy.solve(sympy.sin(x)-sympy.cos(x),x)"
   ]
  },
  {
   "cell_type": "code",
   "execution_count": 6,
   "metadata": {},
   "outputs": [
    {
     "data": {
      "image/png": "[encoded data removed]",
      "text/latex": [
       "$\\displaystyle \\left[ \\left\\{ x : 1, \\  y : 0, \\  z : -1\\right\\}\\right]$"
      ],
      "text/plain": [
       "[{x: 1, y: 0, z: -1}]"
      ]
     },
     "execution_count": 6,
     "metadata": {},
     "output_type": "execute_result"
    }
   ],
   "source": [
    "## Solving Equations\n",
    "eq1 = x-2*y+z \n",
    "eq2  =  2*y-8*z-8\n",
    "eq3 = 5*x - 5*z-10\n",
    "sympy.solve([eq1,eq2,eq3],[x,y,z],dict=True)"
   ]
  },
  {
   "cell_type": "code",
   "execution_count": 16,
   "metadata": {},
   "outputs": [
    {
     "data": {
      "image/png": "[encoded data removed]",
      "text/latex": [
       "$\\displaystyle \\left[\\begin{matrix}{a_{11}} & {a_{12}} & {a_{13}}\\\\{a_{21}} & {a_{22}} & {a_{23}}\\\\{a_{31}} & {a_{32}} & {a_{33}}\\end{matrix}\\right]$"
      ],
      "text/plain": [
       "⎡{a_{11}}  {a_{12}}  {a_{13}}⎤\n",
       "⎢                            ⎥\n",
       "⎢{a_{21}}  {a_{22}}  {a_{23}}⎥\n",
       "⎢                            ⎥\n",
       "⎣{a_{31}}  {a_{32}}  {a_{33}}⎦"
      ]
     },
     "execution_count": 16,
     "metadata": {},
     "output_type": "execute_result"
    }
   ],
   "source": [
    "## Linear Algebra\n",
    "a11,a12,a13,a21,a22,a23,a31,a32,a33 = sympy.symbols(\"{a_{11}},{a_{12}},{a_{13}},{a_{21}},{a_{22}},{a_{23}},{a_{31}},{a_{32}},{a_{33}}\")\n",
    "M = sympy.Matrix([[a11,a12,a13],[a21,a22,a23],[a31,a32,a33]])\n",
    "## Generating a 3x3 Matrix M\n",
    "M"
   ]
  },
  {
   "cell_type": "code",
   "execution_count": 20,
   "metadata": {},
   "outputs": [
    {
     "data": {
      "image/png": "[encoded data removed]",
      "text/latex": [
       "$\\displaystyle \\left( \\left[\\begin{matrix}1 & 0\\\\\\frac{1}{5} & 1\\end{matrix}\\right], \\  \\left[\\begin{matrix}5 & 1\\\\0 & \\frac{19}{5}\\end{matrix}\\right], \\  \\left[ \\right]\\right)$"
      ],
      "text/plain": [
       "⎛⎡ 1   0⎤  ⎡5   1  ⎤    ⎞\n",
       "⎜⎢      ⎥, ⎢       ⎥, []⎟\n",
       "⎝⎣1/5  1⎦  ⎣0  19/5⎦    ⎠"
      ]
     },
     "execution_count": 20,
     "metadata": {},
     "output_type": "execute_result"
    }
   ],
   "source": [
    "##Matrices\n",
    "\n",
    "M1 = sympy.Matrix([[5,1],[1,4]])\n",
    "M1.LUdecomposition()"
   ]
  }
 ],
 "metadata": {
  "kernelspec": {
   "display_name": "Python 3",
   "language": "python",
   "name": "python3"
  },
  "language_info": {
   "codemirror_mode": {
    "name": "ipython",
    "version": 3
   },
   "file_extension": ".py",
   "mimetype": "text/x-python",
   "name": "python",
   "nbconvert_exporter": "python",
   "pygments_lexer": "ipython3",
   "version": "3.8.10"
  },
  "orig_nbformat": 4
 },
 "nbformat": 4,
 "nbformat_minor": 2
}
