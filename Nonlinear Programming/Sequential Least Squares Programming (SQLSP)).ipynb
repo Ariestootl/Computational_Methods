{
 "cells": [
  {
   "cell_type": "code",
   "execution_count": 2,
   "metadata": {
    "colab": {
     "base_uri": "https://localhost:8080/"
    },
    "executionInfo": {
     "elapsed": 371,
     "status": "ok",
     "timestamp": 1717176441472,
     "user": {
      "displayName": "Jose Aries De Los Santos",
      "userId": "01044955317692580465"
     },
     "user_tz": -480
    },
    "id": "eUpUZUcNsEUR",
    "outputId": "a802708a-6389-401b-83e8-18ac703a0749"
   },
   "outputs": [
    {
     "name": "stdout",
     "output_type": "stream",
     "text": [
      "Optimal value: -9.363636363636529\n",
      "Optimal variables: [6.36363635e-01 4.12275422e-15 1.18181818e+00]\n"
     ]
    }
   ],
   "source": [
    "import numpy as np\n",
    "from scipy.optimize import minimize\n",
    "\n",
    "# Define the objective function\n",
    "def objective(vars):\n",
    "    x, y, z = vars\n",
    "    return 2*x**2 + y**2 + 3*z**2 - 2*x*y + 2*y*z - 4*x - y - 10*z\n",
    "\n",
    "# Define the constraints\n",
    "def constraint1(vars):\n",
    "    x, y, z = vars\n",
    "    return 4 - (x**2 + y**2 + z)\n",
    "\n",
    "def constraint2(vars):\n",
    "    x, y, z = vars\n",
    "    return 3 - (x + y + 2*z)\n",
    "\n",
    "def constraint3(vars):\n",
    "    x, y, z = vars\n",
    "    return x\n",
    "\n",
    "def constraint4(vars):\n",
    "    x, y, z = vars\n",
    "    return y\n",
    "\n",
    "def constraint5(vars):\n",
    "    x, y, z = vars\n",
    "    return z\n",
    "\n",
    "# Define the bounds for each variable\n",
    "bounds = [(0, None), (0, None), (0, None)]\n",
    "\n",
    "# Initial guess\n",
    "x0 = np.array([0.5, 0.5, 0.5])\n",
    "\n",
    "# Set up the constraints as a list of dictionaries\n",
    "constraints = [\n",
    "    {'type': 'ineq', 'fun': constraint1},\n",
    "    {'type': 'ineq', 'fun': constraint2},\n",
    "    {'type': 'ineq', 'fun': constraint3},\n",
    "    {'type': 'ineq', 'fun': constraint4},\n",
    "    {'type': 'ineq', 'fun': constraint5}\n",
    "]\n",
    "\n",
    "# Solve the problem\n",
    "solution = minimize(objective, x0, method='SLSQP', bounds=bounds, constraints=constraints)\n",
    "\n",
    "# Print the results\n",
    "print('Optimal value:', solution.fun)\n",
    "print('Optimal variables:', solution.x)\n"
   ]
  },
  {
   "cell_type": "code",
   "execution_count": 5,
   "metadata": {
    "colab": {
     "base_uri": "https://localhost:8080/"
    },
    "executionInfo": {
     "elapsed": 1156,
     "status": "ok",
     "timestamp": 1717176773079,
     "user": {
      "displayName": "Jose Aries De Los Santos",
      "userId": "01044955317692580465"
     },
     "user_tz": -480
    },
    "id": "BNJ9yXZjtMk2",
    "outputId": "5944ea8b-8e4e-4e26-bad3-8f6d49dfff41"
   },
   "outputs": [
    {
     "name": "stdout",
     "output_type": "stream",
     "text": [
      "Optimal value: -6.724972255794826\n",
      "Optimal variables: [0.80178373 1.60356754 2.40535128]\n"
     ]
    }
   ],
   "source": [
    "import numpy as np\n",
    "from scipy.optimize import minimize\n",
    "\n",
    "# Define the objective function\n",
    "def objective(x):\n",
    "    return 0.5 * np.sum(x**2) - np.sum(np.array([1, 2, 3]) * x)\n",
    "\n",
    "# Define the constraints\n",
    "def constraint1(x):\n",
    "    return np.sum(x) - 1\n",
    "\n",
    "def constraint2(x):\n",
    "    return 9 - np.sum(x**2)\n",
    "\n",
    "# Initial guess\n",
    "x0 = np.array([1, 0, 0])\n",
    "\n",
    "# Set up the constraints as a list of dictionaries\n",
    "constraints = [\n",
    "    {'type': 'ineq', 'fun': constraint1},\n",
    "    {'type': 'ineq', 'fun': constraint2}\n",
    "]\n",
    "\n",
    "# Solve the problem\n",
    "solution = minimize(objective, x0, method='SLSQP', constraints=constraints)\n",
    "\n",
    "# Print the results\n",
    "print('Optimal value:', solution.fun)\n",
    "print('Optimal variables:', solution.x)\n"
   ]
  }
 ],
 "metadata": {
  "colab": {
   "authorship_tag": "ABX9TyMq0eUyRa4bGo0BXUiWa/Yt",
   "provenance": []
  },
  "kernelspec": {
   "display_name": "Python 3",
   "name": "python3"
  },
  "language_info": {
   "name": "python"
  }
 },
 "nbformat": 4,
 "nbformat_minor": 0
}
